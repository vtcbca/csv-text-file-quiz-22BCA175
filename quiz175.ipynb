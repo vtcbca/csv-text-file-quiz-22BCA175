{
 "cells": [
  {
   "cell_type": "code",
   "execution_count": 8,
   "id": "bb0ecdce-72d2-40a4-918a-88cd2a21e541",
   "metadata": {},
   "outputs": [],
   "source": [
    "import csv"
   ]
  },
  {
   "cell_type": "code",
   "execution_count": 9,
   "id": "210c6d31-482f-4da3-b537-8c502b5d4978",
   "metadata": {},
   "outputs": [],
   "source": [
    "file = open(\"intro.txt\",'w',encoding='utf-8',newline='')"
   ]
  },
  {
   "cell_type": "code",
   "execution_count": 10,
   "id": "03a43046-1fe7-4ce2-9045-907cd0a920ae",
   "metadata": {},
   "outputs": [],
   "source": [
    "l=[['My Name:Vrajkumar Vinodkumar Patel'],\n",
    "   ['My Father Name:VinodKumar ThakorBhai Patel'],\n",
    "   ['My Mother Name:MahesvariBen VinodKumar Patel'],\n",
    "   ['Home Address:Main Road Near Post Office,Palsana,Surat'],\n",
    "   ['My Birth Date:03\\10\\2004'],\n",
    "   ['My favorite Game:Cricket'],\n",
    "   ['My favorite Place:Somnath']]"
   ]
  },
  {
   "cell_type": "code",
   "execution_count": 11,
   "id": "071dcb36-fba8-4b45-a949-1c4cc9bb6809",
   "metadata": {},
   "outputs": [],
   "source": [
    "w=csv.writer(file)"
   ]
  },
  {
   "cell_type": "code",
   "execution_count": 12,
   "id": "05fef9f5-63b9-43a1-adcd-de3c487bd248",
   "metadata": {},
   "outputs": [],
   "source": [
    "w.writerows(l)"
   ]
  },
  {
   "cell_type": "code",
   "execution_count": 18,
   "id": "dc4d63ab",
   "metadata": {},
   "outputs": [],
   "source": [
    "f = open(\"intro.txt\",'r',encoding='utf-8',newline='')"
   ]
  },
  {
   "cell_type": "code",
   "execution_count": 19,
   "id": "5dffe2b7",
   "metadata": {},
   "outputs": [],
   "source": [
    "file = open(\"intro1.txt\",'w',encoding='utf-8',newline='')"
   ]
  },
  {
   "cell_type": "code",
   "execution_count": 24,
   "id": "569dbd90",
   "metadata": {},
   "outputs": [],
   "source": [
    "w=csv.writer(file)"
   ]
  },
  {
   "cell_type": "code",
   "execution_count": 25,
   "id": "34b9fe6c",
   "metadata": {},
   "outputs": [],
   "source": [
    "r=csv.reader(f)"
   ]
  },
  {
   "cell_type": "code",
   "execution_count": 26,
   "id": "3ddacf01",
   "metadata": {},
   "outputs": [
    {
     "ename": "TypeError",
     "evalue": "not all arguments converted during string formatting",
     "output_type": "error",
     "traceback": [
      "\u001b[1;31m---------------------------------------------------------------------------\u001b[0m",
      "\u001b[1;31mTypeError\u001b[0m                                 Traceback (most recent call last)",
      "Cell \u001b[1;32mIn[26], line 3\u001b[0m\n\u001b[0;32m      1\u001b[0m \u001b[38;5;28;01mfor\u001b[39;00m i \u001b[38;5;129;01min\u001b[39;00m r:\n\u001b[0;32m      2\u001b[0m     \u001b[38;5;28;01mfor\u001b[39;00m r \u001b[38;5;129;01min\u001b[39;00m f:\n\u001b[1;32m----> 3\u001b[0m              \u001b[38;5;28;01mif\u001b[39;00m \u001b[43mr\u001b[49m\u001b[43m \u001b[49m\u001b[38;5;241;43m%\u001b[39;49m\u001b[43m \u001b[49m\u001b[38;5;241;43m2\u001b[39;49m \u001b[38;5;241m==\u001b[39m \u001b[38;5;241m1\u001b[39m:\n\u001b[0;32m      4\u001b[0m                  p\u001b[38;5;241m.\u001b[39mwrite(r)\n",
      "\u001b[1;31mTypeError\u001b[0m: not all arguments converted during string formatting"
     ]
    }
   ],
   "source": [
    "for i in r:\n",
    "    for r in f:\n",
    "             if r % 2 == 1:\n",
    "                 p.write(r)"
   ]
  },
  {
   "cell_type": "code",
   "execution_count": null,
   "id": "977181e9",
   "metadata": {},
   "outputs": [],
   "source": []
  }
 ],
 "metadata": {
  "kernelspec": {
   "display_name": "Python 3 (ipykernel)",
   "language": "python",
   "name": "python3"
  },
  "language_info": {
   "codemirror_mode": {
    "name": "ipython",
    "version": 3
   },
   "file_extension": ".py",
   "mimetype": "text/x-python",
   "name": "python",
   "nbconvert_exporter": "python",
   "pygments_lexer": "ipython3",
   "version": "3.9.6"
  }
 },
 "nbformat": 4,
 "nbformat_minor": 5
}
